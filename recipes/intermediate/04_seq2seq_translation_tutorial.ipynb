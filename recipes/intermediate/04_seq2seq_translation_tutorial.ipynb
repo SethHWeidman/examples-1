{
 "cells": [
  {
   "cell_type": "code",
   "execution_count": 24,
   "metadata": {},
   "outputs": [],
   "source": [
    "%matplotlib inline"
   ]
  },
  {
   "cell_type": "markdown",
   "metadata": {},
   "source": [
    "\n",
    "Translation with a Sequence to Sequence Network and Attention\n",
    "*************************************************************\n",
    "**Author**: `Sean Robertson <https://github.com/spro/practical-pytorch>`_\n",
    "\n",
    "In this project we will be teaching a neural network to translate from\n",
    "French to English.\n",
    "\n",
    "::\n",
    "\n",
    "    [KEY: > input, = target, < output]\n",
    "\n",
    "    > il est en train de peindre un tableau .\n",
    "    = he is painting a picture .\n",
    "    < he is painting a picture .\n",
    "\n",
    "    > pourquoi ne pas essayer ce vin delicieux ?\n",
    "    = why not try that delicious wine ?\n",
    "    < why not try that delicious wine ?\n",
    "\n",
    "    > elle n est pas poete mais romanciere .\n",
    "    = she is not a poet but a novelist .\n",
    "    < she not not a poet but a novelist .\n",
    "\n",
    "    > vous etes trop maigre .\n",
    "    = you re too skinny .\n",
    "    < you re all alone .\n",
    "\n",
    "... to varying degrees of success.\n",
    "\n",
    "This is made possible by the simple but powerful idea of the `sequence\n",
    "to sequence network <https://arxiv.org/abs/1409.3215>`__, in which two\n",
    "recurrent neural networks work together to transform one sequence to\n",
    "another. An encoder network condenses an input sequence into a vector,\n",
    "and a decoder network unfolds that vector into a new sequence.\n",
    "\n",
    ".. figure:: /_static/img/seq-seq-images/seq2seq.png\n",
    "   :alt:\n",
    "\n",
    "To improve upon this model we'll use an `attention\n",
    "mechanism <https://arxiv.org/abs/1409.0473>`__, which lets the decoder\n",
    "learn to focus over a specific range of the input sequence.\n",
    "\n",
    "**Recommended Reading:**\n",
    "\n",
    "I assume you have at least installed PyTorch, know Python, and\n",
    "understand Tensors:\n",
    "\n",
    "-  https://pytorch.org/ For installation instructions\n",
    "-  :doc:`/beginner/deep_learning_60min_blitz` to get started with PyTorch in general\n",
    "-  :doc:`/beginner/pytorch_with_examples` for a wide and deep overview\n",
    "-  :doc:`/beginner/former_torchies_tutorial` if you are former Lua Torch user\n",
    "\n",
    "\n",
    "It would also be useful to know about Sequence to Sequence networks and\n",
    "how they work:\n",
    "\n",
    "-  `Learning Phrase Representations using RNN Encoder-Decoder for\n",
    "   Statistical Machine Translation <https://arxiv.org/abs/1406.1078>`__\n",
    "-  `Sequence to Sequence Learning with Neural\n",
    "   Networks <https://arxiv.org/abs/1409.3215>`__\n",
    "-  `Neural Machine Translation by Jointly Learning to Align and\n",
    "   Translate <https://arxiv.org/abs/1409.0473>`__\n",
    "-  `A Neural Conversational Model <https://arxiv.org/abs/1506.05869>`__\n",
    "\n",
    "You will also find the previous tutorials on\n",
    ":doc:`/intermediate/char_rnn_classification_tutorial`\n",
    "and :doc:`/intermediate/char_rnn_generation_tutorial`\n",
    "helpful as those concepts are very similar to the Encoder and Decoder\n",
    "models, respectively.\n",
    "\n",
    "And for more, read the papers that introduced these topics:\n",
    "\n",
    "-  `Learning Phrase Representations using RNN Encoder-Decoder for\n",
    "   Statistical Machine Translation <https://arxiv.org/abs/1406.1078>`__\n",
    "-  `Sequence to Sequence Learning with Neural\n",
    "   Networks <https://arxiv.org/abs/1409.3215>`__\n",
    "-  `Neural Machine Translation by Jointly Learning to Align and\n",
    "   Translate <https://arxiv.org/abs/1409.0473>`__\n",
    "-  `A Neural Conversational Model <https://arxiv.org/abs/1506.05869>`__\n",
    "\n",
    "\n",
    "**Requirements**\n"
   ]
  },
  {
   "cell_type": "code",
   "execution_count": 13,
   "metadata": {},
   "outputs": [],
   "source": [
    "from __future__ import unicode_literals, print_function, division\n",
    "from io import open\n",
    "import unicodedata\n",
    "import string\n",
    "import re\n",
    "import random\n",
    "\n",
    "import torch\n",
    "import torch.nn as nn\n",
    "from torch import optim\n",
    "import torch.nn.functional as F\n",
    "\n",
    "from typing import Tuple, List\n",
    "from torch import Tensor\n",
    "from torch.optim import Optimizer\n",
    "\n",
    "device = torch.device(\"cuda\" if torch.cuda.is_available() else \"cpu\")"
   ]
  },
  {
   "cell_type": "markdown",
   "metadata": {},
   "source": [
    "Loading data files\n",
    "==================\n",
    "\n",
    "The data for this project is a set of many thousands of English to\n",
    "French translation pairs.\n",
    "\n",
    "`This question on Open Data Stack\n",
    "Exchange <https://opendata.stackexchange.com/questions/3888/dataset-of-sentences-translated-into-many-languages>`__\n",
    "pointed me to the open translation site https://tatoeba.org/ which has\n",
    "downloads available at https://tatoeba.org/eng/downloads - and better\n",
    "yet, someone did the extra work of splitting language pairs into\n",
    "individual text files here: https://www.manythings.org/anki/\n",
    "\n",
    "The English to French pairs are too big to include in the repo, so\n",
    "download to ``data/eng-fra.txt`` before continuing. The file is a tab\n",
    "separated list of translation pairs:\n",
    "\n",
    "::\n",
    "\n",
    "    I am cold.    J'ai froid.\n",
    "\n",
    ".. Note::\n",
    "   Download the data from\n",
    "   `here <https://download.pytorch.org/tutorial/data.zip>`_\n",
    "   and extract it to the current directory.\n",
    "\n"
   ]
  },
  {
   "cell_type": "markdown",
   "metadata": {},
   "source": [
    "Similar to the character encoding used in the character-level RNN\n",
    "tutorials, we will be representing each word in a language as a one-hot\n",
    "vector, or giant vector of zeros except for a single one (at the index\n",
    "of the word). Compared to the dozens of characters that might exist in a\n",
    "language, there are many many more words, so the encoding vector is much\n",
    "larger. We will however cheat a bit and trim the data to only use a few\n",
    "thousand words per language.\n",
    "\n",
    ".. figure:: /_static/img/seq-seq-images/word-encoding.png\n",
    "   :alt:\n",
    "\n",
    "\n",
    "\n"
   ]
  },
  {
   "cell_type": "markdown",
   "metadata": {},
   "source": [
    "We'll need a unique index per word to use as the inputs and targets of\n",
    "the networks later. To keep track of all this we will use a helper class\n",
    "called ``Lang`` which has word → index (``word2index``) and index → word\n",
    "(``index2word``) dictionaries, as well as a count of each word\n",
    "``word2count`` to use to later replace rare words.\n",
    "\n",
    "\n"
   ]
  },
  {
   "cell_type": "code",
   "execution_count": 3,
   "metadata": {},
   "outputs": [],
   "source": [
    "SOS_token = 0\n",
    "EOS_token = 1\n",
    "\n",
    "\n",
    "class Lang:\n",
    "    def __init__(self, \n",
    "                 name: str):\n",
    "        self.name = name\n",
    "        self.word2index = {}\n",
    "        self.word2count = {}\n",
    "        self.index2word = {0: \"SOS\", 1: \"EOS\"}\n",
    "        self.n_words = 2  # Count SOS and EOS\n",
    "\n",
    "    def addSentence(self, \n",
    "                    sentence: str) -> None:\n",
    "        for word in sentence.split(' '):\n",
    "            self.addWord(word)\n",
    "\n",
    "    def addWord(self, \n",
    "                word: str) -> None:\n",
    "        if word not in self.word2index:\n",
    "            self.word2index[word] = self.n_words\n",
    "            self.word2count[word] = 1\n",
    "            self.index2word[self.n_words] = word\n",
    "            self.n_words += 1\n",
    "        else:\n",
    "            self.word2count[word] += 1"
   ]
  },
  {
   "cell_type": "markdown",
   "metadata": {},
   "source": [
    "The files are all in Unicode, to simplify we will turn Unicode\n",
    "characters to ASCII, make everything lowercase, and trim most\n",
    "punctuation.\n",
    "\n",
    "\n"
   ]
  },
  {
   "cell_type": "code",
   "execution_count": 4,
   "metadata": {},
   "outputs": [],
   "source": [
    "# Turn a Unicode string to plain ASCII, thanks to\n",
    "# https://stackoverflow.com/a/518232/2809427\n",
    "# https://docs.python.org/3/library/unicodedata.html#unicodedata.normalize\n",
    "# https://www.compart.com/en/unicode/category/Mn\n",
    "def unicodeToAscii(s: str) -> str:\n",
    "    return ''.join(\n",
    "        c for c in unicodedata.normalize('NFD', s)\n",
    "        if unicodedata.category(c) != 'Mn'\n",
    "    )\n",
    "\n",
    "# Lowercase, trim, and remove non-letter characters\n",
    "\n",
    "\n",
    "def normalizeString(s: str) -> str:\n",
    "    s = unicodeToAscii(s.lower().strip())\n",
    "    s = re.sub(r\"([.!?])\", r\" \\1\", s)\n",
    "    s = re.sub(r\"[^a-zA-Z.!?]+\", r\" \", s)\n",
    "    return s"
   ]
  },
  {
   "cell_type": "markdown",
   "metadata": {},
   "source": [
    "To read the data file we will split the file into lines, and then split\n",
    "lines into pairs. The files are all English → Other Language, so if we\n",
    "want to translate from Other Language → English I added the ``reverse``\n",
    "flag to reverse the pairs.\n",
    "\n",
    "\n"
   ]
  },
  {
   "cell_type": "code",
   "execution_count": 5,
   "metadata": {},
   "outputs": [],
   "source": [
    "def readLangs(lang1: str, \n",
    "              lang2: str, \n",
    "              reverse: bool=False) -> Tuple[Lang, Lang, List[List[str]]]:\n",
    "    print(\"Reading lines...\")\n",
    "\n",
    "    # Read the file and split into lines\n",
    "    lines = open('data/%s-%s.txt' % (lang1, lang2), encoding='utf-8').\\\n",
    "        read().strip().split('\\n')\n",
    "\n",
    "    # Split every line into pairs and normalize\n",
    "    pairs = [[normalizeString(s) for s in l.split('\\t')] for l in lines]\n",
    "\n",
    "    # Reverse pairs, make Lang instances\n",
    "    if reverse:\n",
    "        pairs = [list(reversed(p)) for p in pairs]\n",
    "        input_lang = Lang(lang2)\n",
    "        output_lang = Lang(lang1)\n",
    "    else:\n",
    "        input_lang = Lang(lang1)\n",
    "        output_lang = Lang(lang2)\n",
    "\n",
    "    return input_lang, output_lang, pairs"
   ]
  },
  {
   "cell_type": "markdown",
   "metadata": {},
   "source": [
    "Since there are a *lot* of example sentences and we want to train\n",
    "something quickly, we'll trim the data set to only relatively short and\n",
    "simple sentences. Here the maximum length is 10 words (that includes\n",
    "ending punctuation) and we're filtering to sentences that translate to\n",
    "the form \"I am\" or \"He is\" etc. (accounting for apostrophes replaced\n",
    "earlier).\n",
    "\n",
    "\n"
   ]
  },
  {
   "cell_type": "code",
   "execution_count": 6,
   "metadata": {},
   "outputs": [],
   "source": [
    "MAX_LENGTH = 10\n",
    "\n",
    "eng_prefixes = (\n",
    "    \"i am \", \"i m \",\n",
    "    \"he is\", \"he s \",\n",
    "    \"she is\", \"she s \",\n",
    "    \"you are\", \"you re \",\n",
    "    \"we are\", \"we re \",\n",
    "    \"they are\", \"they re \"\n",
    ")\n",
    "\n",
    "\n",
    "def filterPair(p: List[str]) -> bool:\n",
    "    return len(p[0].split(' ')) < MAX_LENGTH and \\\n",
    "        len(p[1].split(' ')) < MAX_LENGTH and \\\n",
    "        p[1].startswith(eng_prefixes)\n",
    "\n",
    "\n",
    "def filterPairs(pairs: List[List[str]]) -> List[str]:\n",
    "    return [pair for pair in pairs if filterPair(pair)]"
   ]
  },
  {
   "cell_type": "markdown",
   "metadata": {},
   "source": [
    "The full process for preparing the data is:\n",
    "\n",
    "-  Read text file and split into lines, split lines into pairs\n",
    "-  Normalize text, filter by length and content\n",
    "-  Make word lists from sentences in pairs\n",
    "\n",
    "\n"
   ]
  },
  {
   "cell_type": "code",
   "execution_count": 7,
   "metadata": {},
   "outputs": [
    {
     "name": "stdout",
     "output_type": "stream",
     "text": [
      "Reading lines...\n",
      "Read 135842 sentence pairs\n",
      "Trimmed to 10599 sentence pairs\n",
      "Counting words...\n",
      "Counted words:\n",
      "fra 4345\n",
      "eng 2803\n",
      "['il est fauche .', 'he s broke .']\n"
     ]
    }
   ],
   "source": [
    "def prepareData(lang1: Lang, \n",
    "                lang2: Lang, \n",
    "                reverse: bool=False):\n",
    "    input_lang, output_lang, pairs = readLangs(lang1, lang2, reverse)\n",
    "    print(\"Read %s sentence pairs\" % len(pairs))\n",
    "    pairs = filterPairs(pairs)\n",
    "    print(\"Trimmed to %s sentence pairs\" % len(pairs))\n",
    "    print(\"Counting words...\")\n",
    "    for pair in pairs:\n",
    "        input_lang.addSentence(pair[0])\n",
    "        output_lang.addSentence(pair[1])\n",
    "    print(\"Counted words:\")\n",
    "    print(input_lang.name, input_lang.n_words)\n",
    "    print(output_lang.name, output_lang.n_words)\n",
    "    return input_lang, output_lang, pairs\n",
    "\n",
    "\n",
    "input_lang, output_lang, pairs = prepareData('eng', 'fra', True)\n",
    "print(random.choice(pairs))"
   ]
  },
  {
   "cell_type": "markdown",
   "metadata": {},
   "source": [
    "The Seq2Seq Model\n",
    "=================\n",
    "\n",
    "A Recurrent Neural Network, or RNN, is a network that operates on a\n",
    "sequence and uses its own output as input for subsequent steps.\n",
    "\n",
    "A `Sequence to Sequence network <https://arxiv.org/abs/1409.3215>`__, or\n",
    "seq2seq network, or `Encoder Decoder\n",
    "network <https://arxiv.org/pdf/1406.1078v3.pdf>`__, is a model\n",
    "consisting of two RNNs called the encoder and decoder. The encoder reads\n",
    "an input sequence and outputs a single vector, and the decoder reads\n",
    "that vector to produce an output sequence.\n",
    "\n",
    ".. figure:: /_static/img/seq-seq-images/seq2seq.png\n",
    "   :alt:\n",
    "\n",
    "Unlike sequence prediction with a single RNN, where every input\n",
    "corresponds to an output, the seq2seq model frees us from sequence\n",
    "length and order, which makes it ideal for translation between two\n",
    "languages.\n",
    "\n",
    "Consider the sentence \"Je ne suis pas le chat noir\" → \"I am not the\n",
    "black cat\". Most of the words in the input sentence have a direct\n",
    "translation in the output sentence, but are in slightly different\n",
    "orders, e.g. \"chat noir\" and \"black cat\". Because of the \"ne/pas\"\n",
    "construction there is also one more word in the input sentence. It would\n",
    "be difficult to produce a correct translation directly from the sequence\n",
    "of input words.\n",
    "\n",
    "With a seq2seq model the encoder creates a single vector which, in the\n",
    "ideal case, encodes the \"meaning\" of the input sequence into a single\n",
    "vector — a single point in some N dimensional space of sentences.\n",
    "\n",
    "\n"
   ]
  },
  {
   "cell_type": "markdown",
   "metadata": {},
   "source": [
    "The Encoder\n",
    "-----------\n",
    "\n",
    "The encoder of a seq2seq network is a RNN that outputs some value for\n",
    "every word from the input sentence. For every input word the encoder\n",
    "outputs a vector and a hidden state, and uses the hidden state for the\n",
    "next input word.\n",
    "\n",
    ".. figure:: /_static/img/seq-seq-images/encoder-network.png\n",
    "   :alt:\n",
    "\n",
    "\n",
    "\n"
   ]
  },
  {
   "cell_type": "code",
   "execution_count": 8,
   "metadata": {},
   "outputs": [],
   "source": [
    "class EncoderRNN(nn.Module):\n",
    "    def __init__(self, \n",
    "                 input_size: int, \n",
    "                 hidden_size: int):\n",
    "        super(EncoderRNN, self).__init__()\n",
    "        self.hidden_size = hidden_size\n",
    "\n",
    "        self.embedding = nn.Embedding(input_size, hidden_size)\n",
    "        self.gru = nn.GRU(hidden_size, hidden_size)\n",
    "\n",
    "    def forward(self, \n",
    "                input: Tensor, \n",
    "                hidden: Tensor) -> Tuple[Tensor, Tensor]:\n",
    "        embedded = self.embedding(input).view(1, 1, -1)\n",
    "        output = embedded\n",
    "        output, hidden = self.gru(output, hidden)\n",
    "        return output, hidden\n",
    "\n",
    "    def initHidden(self) -> Tensor:\n",
    "        return torch.zeros(1, 1, self.hidden_size, device=device)"
   ]
  },
  {
   "cell_type": "markdown",
   "metadata": {},
   "source": [
    "The Decoder\n",
    "-----------\n",
    "\n",
    "The decoder is another RNN that takes the encoder output vector(s) and\n",
    "outputs a sequence of words to create the translation.\n",
    "\n",
    "\n"
   ]
  },
  {
   "cell_type": "markdown",
   "metadata": {},
   "source": [
    "Simple Decoder\n",
    "^^^^^^^^^^^^^^\n",
    "\n",
    "In the simplest seq2seq decoder we use only last output of the encoder.\n",
    "This last output is sometimes called the *context vector* as it encodes\n",
    "context from the entire sequence. This context vector is used as the\n",
    "initial hidden state of the decoder.\n",
    "\n",
    "At every step of decoding, the decoder is given an input token and\n",
    "hidden state. The initial input token is the start-of-string ``<SOS>``\n",
    "token, and the first hidden state is the context vector (the encoder's\n",
    "last hidden state).\n",
    "\n",
    ".. figure:: /_static/img/seq-seq-images/decoder-network.png\n",
    "   :alt:\n",
    "\n",
    "\n",
    "\n"
   ]
  },
  {
   "cell_type": "code",
   "execution_count": 9,
   "metadata": {},
   "outputs": [],
   "source": [
    "class DecoderRNN(nn.Module):\n",
    "    def __init__(self, \n",
    "                 hidden_size: int, \n",
    "                 output_size: int):\n",
    "        super(DecoderRNN, self).__init__()\n",
    "        self.hidden_size = hidden_size\n",
    "\n",
    "        self.embedding = nn.Embedding(output_size, hidden_size)\n",
    "        self.gru = nn.GRU(hidden_size, hidden_size)\n",
    "        self.out = nn.Linear(hidden_size, output_size)\n",
    "        self.softmax = nn.LogSoftmax(dim=1)\n",
    "\n",
    "    def forward(self, \n",
    "                input: Tensor, \n",
    "                hidden: Tensor) -> Tuple[Tensor, Tensor]:\n",
    "        output = self.embedding(input).view(1, 1, -1)\n",
    "        output = F.relu(output)\n",
    "        output, hidden = self.gru(output, hidden)\n",
    "        output = self.softmax(self.out(output[0]))\n",
    "        return output, hidden\n",
    "\n",
    "    def initHidden(self) -> Tensor:\n",
    "        return torch.zeros(1, 1, self.hidden_size, device=device)"
   ]
  },
  {
   "cell_type": "markdown",
   "metadata": {},
   "source": [
    "I encourage you to train and observe the results of this model, but to\n",
    "save space we'll be going straight for the gold and introducing the\n",
    "Attention Mechanism.\n",
    "\n",
    "\n"
   ]
  },
  {
   "cell_type": "markdown",
   "metadata": {},
   "source": [
    "Attention Decoder\n",
    "^^^^^^^^^^^^^^^^^\n",
    "\n",
    "If only the context vector is passed betweeen the encoder and decoder,\n",
    "that single vector carries the burden of encoding the entire sentence.\n",
    "\n",
    "Attention allows the decoder network to \"focus\" on a different part of\n",
    "the encoder's outputs for every step of the decoder's own outputs. First\n",
    "we calculate a set of *attention weights*. These will be multiplied by\n",
    "the encoder output vectors to create a weighted combination. The result\n",
    "(called ``attn_applied`` in the code) should contain information about\n",
    "that specific part of the input sequence, and thus help the decoder\n",
    "choose the right output words.\n",
    "\n",
    ".. figure:: https://i.imgur.com/1152PYf.png\n",
    "   :alt:\n",
    "\n",
    "Calculating the attention weights is done with another feed-forward\n",
    "layer ``attn``, using the decoder's input and hidden state as inputs.\n",
    "Because there are sentences of all sizes in the training data, to\n",
    "actually create and train this layer we have to choose a maximum\n",
    "sentence length (input length, for encoder outputs) that it can apply\n",
    "to. Sentences of the maximum length will use all the attention weights,\n",
    "while shorter sentences will only use the first few.\n",
    "\n",
    ".. figure:: /_static/img/seq-seq-images/attention-decoder-network.png\n",
    "   :alt:\n",
    "\n",
    "\n",
    "\n"
   ]
  },
  {
   "cell_type": "code",
   "execution_count": 10,
   "metadata": {},
   "outputs": [],
   "source": [
    "class AttnDecoderRNN(nn.Module):\n",
    "    def __init__(self, \n",
    "                 hidden_size: int, \n",
    "                 output_size: int, \n",
    "                 dropout_p: float=0.1, \n",
    "                 max_length: int=MAX_LENGTH):\n",
    "        super(AttnDecoderRNN, self).__init__()\n",
    "        self.hidden_size = hidden_size\n",
    "        self.output_size = output_size\n",
    "        self.dropout_p = dropout_p\n",
    "        self.max_length = max_length\n",
    "\n",
    "        self.embedding = nn.Embedding(self.output_size, self.hidden_size)\n",
    "        self.attn = nn.Linear(self.hidden_size * 2, self.max_length)\n",
    "        self.attn_combine = nn.Linear(self.hidden_size * 2, self.hidden_size)\n",
    "        self.dropout = nn.Dropout(self.dropout_p)\n",
    "        self.gru = nn.GRU(self.hidden_size, self.hidden_size)\n",
    "        self.out = nn.Linear(self.hidden_size, self.output_size)\n",
    "\n",
    "    def forward(self, \n",
    "                input: Tensor, \n",
    "                hidden: Tensor, \n",
    "                encoder_outputs: Tensor) -> Tuple[Tensor, Tensor, Tensor]:\n",
    "        embedded = self.embedding(input).view(1, 1, -1)\n",
    "        embedded = self.dropout(embedded)\n",
    "\n",
    "        attn_weights = F.softmax(\n",
    "            self.attn(torch.cat((embedded[0], hidden[0]), 1)), dim=1)\n",
    "        attn_applied = torch.bmm(attn_weights.unsqueeze(0),\n",
    "                                 encoder_outputs.unsqueeze(0))\n",
    "\n",
    "        output = torch.cat((embedded[0], attn_applied[0]), 1)\n",
    "        output = self.attn_combine(output).unsqueeze(0)\n",
    "\n",
    "        output = F.relu(output)\n",
    "        output, hidden = self.gru(output, hidden)\n",
    "\n",
    "        output = F.log_softmax(self.out(output[0]), dim=1)\n",
    "        return output, hidden, attn_weights\n",
    "\n",
    "    def initHidden(self) -> Tensor:\n",
    "        return torch.zeros(1, 1, self.hidden_size, device=device)"
   ]
  },
  {
   "cell_type": "markdown",
   "metadata": {},
   "source": [
    "<div class=\"alert alert-info\"><h4>Note</h4><p>There are other forms of attention that work around the length\n",
    "  limitation by using a relative position approach. Read about \"local\n",
    "  attention\" in `Effective Approaches to Attention-based Neural Machine\n",
    "  Translation <https://arxiv.org/abs/1508.04025>`__.</p></div>\n",
    "\n",
    "Training\n",
    "========\n",
    "\n",
    "Preparing Training Data\n",
    "-----------------------\n",
    "\n",
    "To train, for each pair we will need an input tensor (indexes of the\n",
    "words in the input sentence) and target tensor (indexes of the words in\n",
    "the target sentence). While creating these vectors we will append the\n",
    "EOS token to both sequences.\n",
    "\n",
    "\n"
   ]
  },
  {
   "cell_type": "code",
   "execution_count": 12,
   "metadata": {},
   "outputs": [],
   "source": [
    "def indexesFromSentence(lang: Lang, \n",
    "                        sentence: str) -> List[int]:\n",
    "    return [lang.word2index[word] for word in sentence.split(' ')]\n",
    "\n",
    "\n",
    "def tensorFromSentence(lang: Lang, \n",
    "                       sentence: str) -> Tensor:\n",
    "    indexes = indexesFromSentence(lang, sentence)\n",
    "    indexes.append(EOS_token)\n",
    "    return torch.tensor(indexes, dtype=torch.long, device=device).view(-1, 1)\n",
    "\n",
    "\n",
    "def tensorsFromPair(pair: List[str]) -> Tuple[Tensor, Tensor]:\n",
    "    input_tensor = tensorFromSentence(input_lang, pair[0])\n",
    "    target_tensor = tensorFromSentence(output_lang, pair[1])\n",
    "    return (input_tensor, target_tensor)"
   ]
  },
  {
   "cell_type": "markdown",
   "metadata": {},
   "source": [
    "Training the Model\n",
    "------------------\n",
    "\n",
    "To train we run the input sentence through the encoder, and keep track\n",
    "of every output and the latest hidden state. Then the decoder is given\n",
    "the ``<SOS>`` token as its first input, and the last hidden state of the\n",
    "encoder as its first hidden state.\n",
    "\n",
    "\"Teacher forcing\" is the concept of using the real target outputs as\n",
    "each next input, instead of using the decoder's guess as the next input.\n",
    "Using teacher forcing causes it to converge faster but `when the trained\n",
    "network is exploited, it may exhibit\n",
    "instability <http://citeseerx.ist.psu.edu/viewdoc/download?doi=10.1.1.378.4095&rep=rep1&type=pdf>`__.\n",
    "\n",
    "You can observe outputs of teacher-forced networks that read with\n",
    "coherent grammar but wander far from the correct translation -\n",
    "intuitively it has learned to represent the output grammar and can \"pick\n",
    "up\" the meaning once the teacher tells it the first few words, but it\n",
    "has not properly learned how to create the sentence from the translation\n",
    "in the first place.\n",
    "\n",
    "Because of the freedom PyTorch's autograd gives us, we can randomly\n",
    "choose to use teacher forcing or not with a simple if statement. Turn\n",
    "``teacher_forcing_ratio`` up to use more of it.\n",
    "\n",
    "\n"
   ]
  },
  {
   "cell_type": "code",
   "execution_count": 16,
   "metadata": {},
   "outputs": [],
   "source": [
    "teacher_forcing_ratio = 0.5\n",
    "\n",
    "\n",
    "def train(input_tensor: Tensor, \n",
    "          target_tensor: Tensor, \n",
    "          encoder: EncoderRNN, \n",
    "          decoder: DecoderRNN, \n",
    "          encoder_optimizer: Optimizer, \n",
    "          decoder_optimizer: Optimizer, \n",
    "          criterion: nn.Module, \n",
    "          max_length: int=MAX_LENGTH) -> float:\n",
    "    encoder_hidden = encoder.initHidden()\n",
    "\n",
    "    encoder_optimizer.zero_grad()\n",
    "    decoder_optimizer.zero_grad()\n",
    "\n",
    "    input_length = input_tensor.size(0)\n",
    "    target_length = target_tensor.size(0)\n",
    "\n",
    "    encoder_outputs = torch.zeros(max_length, encoder.hidden_size, device=device)\n",
    "\n",
    "    loss = 0\n",
    "\n",
    "    for ei in range(input_length):\n",
    "        encoder_output, encoder_hidden = encoder(\n",
    "            input_tensor[ei], encoder_hidden)\n",
    "        encoder_outputs[ei] = encoder_output[0, 0]\n",
    "\n",
    "    decoder_input = torch.tensor([[SOS_token]], device=device)\n",
    "\n",
    "    decoder_hidden = encoder_hidden\n",
    "\n",
    "    use_teacher_forcing = True if random.random() < teacher_forcing_ratio else False\n",
    "\n",
    "    if use_teacher_forcing:\n",
    "        # Teacher forcing: Feed the target as the next input\n",
    "        for di in range(target_length):\n",
    "            decoder_output, decoder_hidden, decoder_attention = decoder(\n",
    "                decoder_input, decoder_hidden, encoder_outputs)\n",
    "            loss += criterion(decoder_output, target_tensor[di])\n",
    "            decoder_input = target_tensor[di]  # Teacher forcing\n",
    "\n",
    "    else:\n",
    "        # Without teacher forcing: use its own predictions as the next input\n",
    "        for di in range(target_length):\n",
    "            decoder_output, decoder_hidden, decoder_attention = decoder(\n",
    "                decoder_input, decoder_hidden, encoder_outputs)\n",
    "            topv, topi = decoder_output.topk(1)\n",
    "            decoder_input = topi.squeeze().detach()  # detach from history as input\n",
    "\n",
    "            loss += criterion(decoder_output, target_tensor[di])\n",
    "            if decoder_input.item() == EOS_token:\n",
    "                break\n",
    "\n",
    "    loss.backward()\n",
    "\n",
    "    encoder_optimizer.step()\n",
    "    decoder_optimizer.step()\n",
    "\n",
    "    return loss.item() / target_length"
   ]
  },
  {
   "cell_type": "markdown",
   "metadata": {},
   "source": [
    "This is a helper function to print time elapsed and estimated time\n",
    "remaining given the current time and progress %.\n",
    "\n",
    "\n"
   ]
  },
  {
   "cell_type": "code",
   "execution_count": 15,
   "metadata": {},
   "outputs": [],
   "source": [
    "import time\n",
    "import math\n",
    "\n",
    "\n",
    "def asMinutes(s: float) -> str:\n",
    "    m = math.floor(s / 60)\n",
    "    s -= m * 60\n",
    "    return '%dm %ds' % (m, s)\n",
    "\n",
    "\n",
    "def timeSince(since: int, \n",
    "              percent: float) -> str:\n",
    "    now = time.time()\n",
    "    s = now - since\n",
    "    es = s / (percent)\n",
    "    rs = es - s\n",
    "    return '%s (- %s)' % (asMinutes(s), asMinutes(rs))"
   ]
  },
  {
   "cell_type": "markdown",
   "metadata": {},
   "source": [
    "The whole training process looks like this:\n",
    "\n",
    "-  Start a timer\n",
    "-  Initialize optimizers and criterion\n",
    "-  Create set of training pairs\n",
    "-  Start empty losses array for plotting\n",
    "\n",
    "Then we call ``train`` many times and occasionally print the progress (%\n",
    "of examples, time so far, estimated time) and average loss.\n",
    "\n",
    "\n"
   ]
  },
  {
   "cell_type": "code",
   "execution_count": 17,
   "metadata": {},
   "outputs": [],
   "source": [
    "def trainIters(encoder: EncoderRNN, \n",
    "               decoder: DecoderRNN, \n",
    "               n_iters: int, \n",
    "               print_every: int=1000, \n",
    "               plot_every: int=100, \n",
    "               learning_rate: float=0.01) -> None:\n",
    "    start = time.time()\n",
    "    plot_losses = []\n",
    "    print_loss_total = 0  # Reset every print_every\n",
    "    plot_loss_total = 0  # Reset every plot_every\n",
    "\n",
    "    encoder_optimizer = optim.SGD(encoder.parameters(), lr=learning_rate)\n",
    "    decoder_optimizer = optim.SGD(decoder.parameters(), lr=learning_rate)\n",
    "    training_pairs = [tensorsFromPair(random.choice(pairs))\n",
    "                      for i in range(n_iters)]\n",
    "    criterion = nn.NLLLoss()\n",
    "\n",
    "    for iter in range(1, n_iters + 1):\n",
    "        training_pair = training_pairs[iter - 1]\n",
    "        input_tensor = training_pair[0]\n",
    "        target_tensor = training_pair[1]\n",
    "\n",
    "        loss = train(input_tensor, target_tensor, encoder,\n",
    "                     decoder, encoder_optimizer, decoder_optimizer, criterion)\n",
    "        print_loss_total += loss\n",
    "        plot_loss_total += loss\n",
    "\n",
    "        if iter % print_every == 0:\n",
    "            print_loss_avg = print_loss_total / print_every\n",
    "            print_loss_total = 0\n",
    "            print('%s (%d %d%%) %.4f' % (timeSince(start, iter / n_iters),\n",
    "                                         iter, iter / n_iters * 100, print_loss_avg))\n",
    "\n",
    "        if iter % plot_every == 0:\n",
    "            plot_loss_avg = plot_loss_total / plot_every\n",
    "            plot_losses.append(plot_loss_avg)\n",
    "            plot_loss_total = 0\n",
    "\n",
    "    showPlot(plot_losses)"
   ]
  },
  {
   "cell_type": "markdown",
   "metadata": {},
   "source": [
    "Plotting results\n",
    "----------------\n",
    "\n",
    "Plotting is done with matplotlib, using the array of loss values\n",
    "``plot_losses`` saved while training.\n",
    "\n",
    "\n"
   ]
  },
  {
   "cell_type": "code",
   "execution_count": 18,
   "metadata": {},
   "outputs": [],
   "source": [
    "import matplotlib.pyplot as plt\n",
    "plt.switch_backend('agg')\n",
    "import matplotlib.ticker as ticker\n",
    "import numpy as np\n",
    "\n",
    "\n",
    "def showPlot(points: List[int]) -> None:\n",
    "    import pdb; pdb.set_trace()\n",
    "    plt.figure()\n",
    "    fig, ax = plt.subplots()\n",
    "    # this locator puts ticks at regular intervals\n",
    "    loc = ticker.MultipleLocator(base=0.2)\n",
    "    ax.yaxis.set_major_locator(loc)\n",
    "    plt.plot(points)"
   ]
  },
  {
   "cell_type": "markdown",
   "metadata": {},
   "source": [
    "Evaluation\n",
    "==========\n",
    "\n",
    "Evaluation is mostly the same as training, but there are no targets so\n",
    "we simply feed the decoder's predictions back to itself for each step.\n",
    "Every time it predicts a word we add it to the output string, and if it\n",
    "predicts the EOS token we stop there. We also store the decoder's\n",
    "attention outputs for display later.\n",
    "\n",
    "\n"
   ]
  },
  {
   "cell_type": "code",
   "execution_count": 19,
   "metadata": {},
   "outputs": [],
   "source": [
    "def evaluate(encoder: EncoderRNN, \n",
    "             decoder: DecoderRNN, \n",
    "             sentence: str, \n",
    "             max_length: int=MAX_LENGTH) -> Tuple[List[str], Tensor]:\n",
    "    with torch.no_grad():\n",
    "        input_tensor = tensorFromSentence(input_lang, sentence)\n",
    "        input_length = input_tensor.size()[0]\n",
    "        encoder_hidden = encoder.initHidden()\n",
    "\n",
    "        encoder_outputs = torch.zeros(max_length, encoder.hidden_size, device=device)\n",
    "\n",
    "        for ei in range(input_length):\n",
    "            encoder_output, encoder_hidden = encoder(input_tensor[ei],\n",
    "                                                     encoder_hidden)\n",
    "            encoder_outputs[ei] += encoder_output[0, 0]\n",
    "\n",
    "        decoder_input = torch.tensor([[SOS_token]], device=device)  # SOS\n",
    "\n",
    "        decoder_hidden = encoder_hidden\n",
    "\n",
    "        decoded_words = []\n",
    "        decoder_attentions = torch.zeros(max_length, max_length)\n",
    "\n",
    "        for di in range(max_length):\n",
    "            decoder_output, decoder_hidden, decoder_attention = decoder(\n",
    "                decoder_input, decoder_hidden, encoder_outputs)\n",
    "            decoder_attentions[di] = decoder_attention.data\n",
    "            topv, topi = decoder_output.data.topk(1)\n",
    "            if topi.item() == EOS_token:\n",
    "                decoded_words.append('<EOS>')\n",
    "                break\n",
    "            else:\n",
    "                decoded_words.append(output_lang.index2word[topi.item()])\n",
    "\n",
    "            decoder_input = topi.squeeze().detach()\n",
    "\n",
    "        return decoded_words, decoder_attentions[:di + 1]"
   ]
  },
  {
   "cell_type": "markdown",
   "metadata": {},
   "source": [
    "We can evaluate random sentences from the training set and print out the\n",
    "input, target, and output to make some subjective quality judgements:\n",
    "\n",
    "\n"
   ]
  },
  {
   "cell_type": "code",
   "execution_count": 20,
   "metadata": {},
   "outputs": [],
   "source": [
    "def evaluateRandomly(encoder: EncoderRNN, \n",
    "                     decoder: DecoderRNN, \n",
    "                     n: int=10) -> None:\n",
    "    for i in range(n):\n",
    "        pair = random.choice(pairs)\n",
    "        print('>', pair[0])\n",
    "        print('=', pair[1])\n",
    "        output_words, attentions = evaluate(encoder, decoder, pair[0])\n",
    "        output_sentence = ' '.join(output_words)\n",
    "        print('<', output_sentence)\n",
    "        print('')"
   ]
  },
  {
   "cell_type": "markdown",
   "metadata": {},
   "source": [
    "Training and Evaluating\n",
    "=======================\n",
    "\n",
    "With all these helper functions in place (it looks like extra work, but\n",
    "it makes it easier to run multiple experiments) we can actually\n",
    "initialize a network and start training.\n",
    "\n",
    "Remember that the input sentences were heavily filtered. For this small\n",
    "dataset we can use relatively small networks of 256 hidden nodes and a\n",
    "single GRU layer. After about 40 minutes on a MacBook CPU we'll get some\n",
    "reasonable results.\n",
    "\n",
    ".. Note::\n",
    "   If you run this notebook you can train, interrupt the kernel,\n",
    "   evaluate, and continue training later. Comment out the lines where the\n",
    "   encoder and decoder are initialized and run ``trainIters`` again.\n",
    "\n",
    "\n"
   ]
  },
  {
   "cell_type": "code",
   "execution_count": 21,
   "metadata": {},
   "outputs": [
    {
     "name": "stdout",
     "output_type": "stream",
     "text": [
      "1m 43s (- 24m 13s) (5000 6%) 2.8509\n",
      "3m 24s (- 22m 7s) (10000 13%) 2.2939\n",
      "5m 5s (- 20m 20s) (15000 20%) 1.9740\n",
      "6m 45s (- 18m 36s) (20000 26%) 1.7271\n",
      "8m 26s (- 16m 53s) (25000 33%) 1.5358\n",
      "10m 8s (- 15m 12s) (30000 40%) 1.3294\n",
      "11m 48s (- 13m 29s) (35000 46%) 1.2100\n",
      "13m 29s (- 11m 48s) (40000 53%) 1.0885\n",
      "15m 10s (- 10m 7s) (45000 60%) 0.9671\n",
      "16m 51s (- 8m 25s) (50000 66%) 0.8701\n",
      "18m 32s (- 6m 44s) (55000 73%) 0.8058\n",
      "20m 14s (- 5m 3s) (60000 80%) 0.7313\n",
      "21m 55s (- 3m 22s) (65000 86%) 0.6629\n",
      "23m 38s (- 1m 41s) (70000 93%) 0.5897\n",
      "25m 20s (- 0m 0s) (75000 100%) 0.5567\n",
      "> <ipython-input-18-a5ffe97a0532>(9)showPlot()\n",
      "-> plt.figure()\n",
      "(Pdb) points\n",
      "[4.411826918829055, 3.5505005041682547, 3.563468810906485, 3.257864379739005, 3.2886800255169963, 3.414337215400879, 3.255833141209587, 3.288166569414594, 3.303177434747181, 3.311429219026414, 3.206625770447746, 3.185686820355672, 3.172174760523297, 3.0542325944295006, 2.9798076562654403, 3.0443779949990524, 2.781690895981257, 2.7696930050698545, 2.80141287900531, 2.8538648597664302, 2.6667410011215815, 2.94926839523656, 2.6264244392939973, 2.769254281600318, 2.725498646925367, 2.750318382047472, 2.7446499754133673, 2.7492570423550076, 2.7610204011296475, 2.6241869671496123, 2.540590133871352, 2.633946738712371, 2.5416879100118366, 2.7701583368891756, 2.583843573789748, 2.631377289552538, 2.563550550975498, 2.345477678694422, 2.4401719481793656, 2.4717646495349825, 2.442421814120005, 2.586387489402104, 2.567565098781434, 2.494857154831054, 2.5678880937969875, 2.6429113323158684, 2.3571649540038337, 2.495336519086172, 2.5382037825660104, 2.47060688361289, 2.3871627732988387, 2.5480267235021743, 2.3628037715658303, 2.3329329542810955, 2.3624186720545337, 2.340031349587062, 2.4854168649363126, 2.5886351827212746, 2.473419329435106, 2.42896941515756, 2.3845608449549913, 2.4591862854692663, 2.436406163367014, 2.3844305841544324, 2.3952637054049775, 2.434372849244921, 2.233061575978522, 2.183086784953162, 2.352405025720596, 2.273345319855781, 2.430347384846399, 2.3512663839014745, 2.222709043022186, 2.305346480047892, 2.1542684463678845, 2.330266345353354, 2.478274088250265, 2.2488235382920228, 2.250253547380841, 2.198420170712093, 2.223071048694944, 2.221734666014475, 2.1523461993100153, 2.0458953242188405, 2.3062015582323077, 2.2910500902751143, 2.2344285999101303, 2.225382320089946, 2.306553648297749, 2.061763278862786, 2.2623958827843738, 2.305014615717388, 2.0847831993027337, 2.0162783234157264, 2.1798569143329347, 2.12668747515527, 2.199785021961681, 2.065729392051697, 2.2329601365006155, 2.3387270534398064, 2.1538937705433554, 2.285879308912489, 2.080268580164227, 2.0793518898297867, 2.121647992391435, 2.0326713459340353, 2.1983481416475197, 2.117890745885789, 1.955037961062931, 1.9611198390173525, 1.877775759630733, 2.0043940798555098, 2.0947176105578733, 2.156556335171064, 1.985271167153404, 1.9926695736249287, 1.979321009698368, 2.050801545215032, 2.1011315570029008, 1.904611538118786, 2.1062486581575297, 2.1173599106130148, 2.085886044829611, 1.7950455386241275, 1.8909739314260927, 1.8989437773379072, 2.0940648652220526, 1.9840403495270105, 1.9924336912556297, 1.7996409402328828, 1.7618461929086655, 2.0099877240941635, 1.9631312212735892, 1.8186122911430536, 2.11512471059012, 1.8657169515764904, 1.8067138035883985, 1.89907518166209, 2.028709379767614, 1.8499288361961885, 1.9550745064285069, 1.8173406148392062, 1.9636242184525443, 1.6709339276287298, 1.7744361759405287, 2.003283633601098, 1.8990438536802918, 1.9329503467064058, 1.8979758858605038, 1.7685865375711816, 1.8170451527833942, 1.8961675951821462, 1.8912829543389975, 1.67011930239579, 1.7109719292379564, 1.7347151886924856, 1.7329680680528523, 1.790816855500615, 1.6958459202486367, 1.7457719100089304, 1.8002077796288898, 1.7525377685966945, 1.740175554184687, 1.9409946971318082, 1.8090943571366964, 1.7892578301770348, 1.778508891245676, 1.7789041685452534, 1.75312703685155, 1.821071769167506, 1.755509562378839, 1.804890746852708, 1.7704218083638992, 1.7813943953211342, 1.670737166207935, 1.7486996717566532, 1.9240447547114075, 1.7618066215571893, 1.7420546045473648, 1.651923591458608, 1.7992279048647202, 1.7285156672549626, 1.7402471781193263, 1.8314553041779809, 1.7396422921494832, 1.6916028572869686, 1.6662498843575286, 1.5471996505525376, 1.682170180672691, 1.712961500406265, 1.6464524609683056, 1.5093330984229147, 1.4740988465831386, 1.6251182938681714, 1.5459994952773295, 1.553196242799835, 1.6887650030151247, 1.6761221296143907, 1.7266768777067703, 1.5067812694462515, 1.7758992854848739, 1.777834240618206, 1.4244328671031525, 1.5617791823319027, 1.7473362110172, 1.6355371921516595, 1.5342106532937008, 1.657378722030019, 1.395209074924862, 1.713211510359295, 1.6399391234526568, 1.3895858151799159, 1.6965412463687712, 1.361266086693794, 1.5475147996346161, 1.5911505877460754, 1.5632658665047752, 1.430681386351585, 1.5202558637157322, 1.667934404009864, 1.493533090555478, 1.5508406538925477, 1.56457584812906, 1.402544290877524, 1.6150902119401902, 1.477567255264236, 1.4461817822796963, 1.4504157893317082, 1.4796131098081196, 1.6855885630940628, 1.4694428989792627, 1.4210970499345237, 1.5858113958249012, 1.6215516673837387, 1.329738540677797, 1.5870900141189959, 1.5270040884396388, 1.5088093685971373, 1.3883313971474058, 1.690672163494049, 1.4268017015097636, 1.5223444233300183, 1.3822336401031134, 1.4174607707678326, 1.5566827251551643, 1.4681895260243187, 1.4784683023672252, 1.5663109850164438, 1.43932679680794, 1.6067673065889454, 1.404485476671703, 1.4008349400664128, 1.4091724424229728, 1.4030588342916397, 1.5248189985260137, 1.4720793705156874, 1.364950721865609, 1.3853853024849814, 1.3098617923676017, 1.3405979813791453, 1.304419722615726, 1.354023450079418, 1.3885237504470929, 1.2248955682629639, 1.200757270105301, 1.5225030522970926, 1.3783658300997716, 1.3293688966717034, 1.2700866869858332, 1.2664464387723378, 1.349628506772102, 1.252720537815775, 1.275680920432484, 1.2894484932422636, 1.2989467248784174, 1.3939820923010506, 1.5414363455885927, 1.334330971492661, 1.2267652322432354, 1.377093047620758, 1.1635278971214142, 1.3653056973975797, 1.186261708414744, 1.2729798124404186, 1.2189774498958434, 1.3257512772556337, 1.296808270038121, 1.2399197915508635, 1.3964202854879317, 1.4391536580324173, 1.4015916658469612, 1.2728549055845018, 1.322201222826564, 1.2621982776664549, 1.392515523339075, 1.1768116105075865, 1.2932299968325895, 1.2622725301772828, 1.2192965841198726, 1.3660806074520895, 1.1758379036093516, 1.3086484863436414, 1.1346556385623088, 1.4576118443958344, 1.1224971881877808, 1.2897162127400201, 1.1862741377296904, 1.0103030862070264, 1.5178073098337848, 1.2895051453283852, 1.1693709729285464, 1.2807411671744457, 1.2113829856562235, 1.519628735574465, 1.4777393479139087, 1.1551003624825251, 1.2602429303498495, 1.148794282561257, 1.3085460286821635, 1.2073946676008283, 1.2750687257013622, 1.1409558267063564, 1.1070403754824683, 1.1636653858442154, 1.179051316741913, 0.9805656650255594, 1.1215317988168632, 1.2718244628262902, 1.0885609803161922, 1.210909115446938, 1.2999274345466068, 1.1216978077415434, 1.1957075840953795, 1.1669774352406699, 1.174414488851078, 1.143626906559581, 1.0025770225487056, 1.2104647368552195, 1.149121322480459, 1.219290264863816, 1.1576330448672885, 1.2715003649109886, 1.3765673709880732, 1.1453374733470738, 1.2759725183153905, 1.1986941274461294, 1.1090201709629999, 1.2826455418060696, 1.1317790415930362, 1.0959521912506647, 1.1086463296772942, 1.2095412118813345, 1.2572225732746574, 1.1311712476961198, 1.0213912603874054, 0.9174315956679598, 1.0330146009676038, 1.1527851283285349, 1.1958907900651297, 1.10341978078986, 1.100491071299901, 1.1631174422767427, 1.088545710677192, 1.0350984151003852, 1.054454194823901, 1.0008924943133009, 0.9972559898921421, 1.2800199140234598, 1.225333494405898, 1.2305569345856469, 1.1363265887839453, 1.1681513221320647, 1.1177752309129354, 1.069661919448111, 1.1029927769218175, 1.193203003391387, 0.9792436736765359, 1.170999397103749, 1.2039302099791787, 1.124677662768061, 0.935403964971739, 1.0466103354427547, 0.9036691974458237, 0.9041661083736114, 0.9672117392486997, 1.2051369363315523, 1.1842324134319546, 1.2306421804295646, 1.2518203470820466, 1.1758513941462079, 0.9049162718322539, 0.8949463057196335, 0.9962172729836568, 1.0527827785904444, 0.93365804221895, 1.185816558099928, 0.870168597760655, 1.0717700612639625, 1.0958998699831584, 1.0430252841200147, 1.052631020564882, 0.8896223792178293, 1.0471728173532184, 1.0215338530275555, 1.2235090146405354, 0.9560994872971187, 1.087518558432185, 1.0063653665061982, 0.9969479169372528, 0.9888837263584138, 0.984175125165591, 0.9017771634733868, 1.03875269202959, 0.8132995246970467, 0.7992907665324591, 1.0152691513943293, 0.8772238525587412, 1.245224595016903, 0.8602011746868256, 1.1645848365851805, 0.9492411130401824, 0.8962957317620988, 0.8513571560080089, 1.030461310647783, 1.0473499411931113, 0.8552011607223089, 1.00018612412044, 0.9962490378731775, 0.8679003857128206, 1.0334528819076596, 0.9804985852468581, 0.8471757883457913, 0.9248209250673416, 1.0349593391626606, 0.8525030634460002, 0.9227426993884739, 0.8880644974405802, 0.8409377251806716, 0.9232325670832684, 1.0756640446469894, 0.9111057831219266, 1.005656157794453, 1.0066472363207073, 0.868842240098923, 0.9297692503853451, 1.0851894937526618, 0.9560163331012883, 0.9208769822499108, 0.9130474228821106, 0.9686274059954144, 0.897060049668191, 0.8834905081836003, 0.8634387951616257, 0.9461888181595579, 0.9509520847040511, 0.8886612794531716, 0.9935331713831614, 0.9196003264377984, 0.6856332032302072, 0.9321529628511458, 0.8729969525072312, 0.9047043570431458, 0.9649413425998083, 0.8344696828599958, 0.8940413904341438, 0.8747743419238497, 0.9181829209895359, 0.8459559946135868, 0.7785269198020298, 0.9248637383211228, 0.7774577263972118, 0.9223688426263746, 0.8465123644632006, 0.9061559824773247, 1.0133592572874497, 0.8812216673938056, 0.7809417597547413, 0.9909261609050961, 0.8974207000845954, 0.9602954265333357, 0.7001371969438734, 0.9929901011368584, 0.8734139003677971, 0.9324741657726348, 0.8798980941394018, 1.0169270019455565, 0.9124423136465133, 0.7453206185348451, 0.8561857273086666, 0.9112411899850484, 0.7330346524450513, 0.8817546228321771, 0.7599526087991777, 0.8066258606589031, 0.8185800299001119, 0.8305817827686429, 0.6925591599581733, 0.8815967630904818, 0.8450574572010648, 0.6829887385690023, 0.806636646603781, 0.8479441863393029, 0.8513324769356891, 0.8060565050140259, 0.8687591685548662, 0.7959595484544362, 0.7395225952996146, 0.799616278678652, 0.8192146704726752, 0.8116936438632391, 0.8206023389593003, 0.7402975993515954, 0.8228887223610802, 0.887542721899729, 0.7402460434247575, 0.9437476431642259, 0.8599522488647038, 0.7407549220077578, 0.9280821469870824, 0.7616327956631072, 0.720202295617452, 0.8682022532886926, 0.7938207869548648, 0.8149919430925731, 0.8877120020238182, 0.7802254358416512, 0.6955431214873754, 0.7298271234886984, 0.8597463166032516, 0.7153392515825844, 0.7593605160126609, 0.8741054200179993, 0.657151560459818, 0.9237872202245021, 0.9030356172096157, 0.9218255435247271, 0.8315211689245134, 0.7718417297109724, 0.8392781615030198, 0.8534257052947606, 0.7568003409438662, 0.8411086202954489, 0.7355265108157721, 0.7545136430395973, 0.6923988278952856, 0.8808539148815093, 0.9014059027017111, 0.75649891211873, 0.6997895423022527, 0.6782545393326929, 0.7258693038206251, 0.7032249937663003, 0.7833409757254617, 0.7520393675565721, 0.93401267909436, 0.8034568262743571, 0.7995693840053347, 0.7224574535498541, 0.7708087191316818, 0.7451505053932703, 0.6269798954819877, 0.643124490147545, 0.8552517180726642, 0.6525114644500946, 0.8202712744228426, 0.7905107430087193, 0.6993995822554541, 0.6752700992236059, 0.7896797289469886, 0.9902124069134395, 0.616422903087404, 0.885660364822736, 0.7302618143842338, 0.7598319523807555, 0.627974014620932, 0.6253091337624048, 0.8457830612810833, 0.6745201230824938, 0.8075191170147485, 0.5869969909815561, 0.7446798451892913, 0.6744723296960196, 0.7211279948325382, 0.7420220310536644, 0.7392441899700773, 0.776817858412152, 0.7647306974388306, 0.716666929324468, 0.5998099083389555, 0.6534847322380734, 0.7480373161917641, 0.6336575037751879, 0.6700880808659962, 0.7854136220424897, 0.8042007248969307, 0.6983423338901429, 0.6255629240123054, 0.6844920923426036, 0.719902446968215, 0.6191077816391747, 0.5901871942319566, 0.620480827787566, 0.6001447178257837, 0.5790622365796378, 0.7166345394565945, 0.7203091195235177, 0.6397843272799537, 0.6761519294333839, 0.9384053694804512, 0.7349422295547668, 0.6885769574509724, 0.6992047359110817, 0.6136319072416849, 0.6519049182600446, 0.8458563954565258, 0.6720055088012935, 0.6174057075579958, 0.6240826898132054, 0.6757621331441971, 0.5913191484553474, 0.7018678969201588, 0.8159433774039858, 0.6411049005228375, 0.7109354465480832, 0.7019240103411297, 0.7946355731808947, 0.7088540036205258, 0.7322203291654585, 0.736317229997544, 0.520185063305355, 0.6725367959397182, 0.5682372771350165, 0.5352453368164245, 0.5031410760690296, 0.6519681707828763, 0.5821721157989804, 0.6316166714240633, 0.7780463175981764, 0.6505975790913144, 0.601894058944687, 0.7639450541299486, 0.6296408171123927, 0.6366464113735018, 0.6600489383803475, 0.5562165447435682, 0.5876431478261945, 0.6439779283981474, 0.6541292117077208, 0.6029630382004239, 0.6753460037802889, 0.6099626359674667, 0.5776746680604087, 0.6604031190247764, 0.7332016679559437, 0.591829422163585, 0.505806301949516, 0.6285082551051699, 0.6636653355038356, 0.6673984031317726, 0.5916037970043363, 0.6402918886419329, 0.6636769426096053, 0.6491285329470557, 0.5937557976624322, 0.6396099298927519, 0.6110490220728374, 0.5884851177628078, 0.683227507381212, 0.6132235440999739, 0.5236934244140745, 0.5852311794909221, 0.5771812296367826, 0.6031780802749455, 0.5125504242673751, 0.5708206494232962, 0.5667853571554973, 0.580164063656141, 0.5737106050442135, 0.5645521672661343, 0.7375465046697187, 0.4832393492441329, 0.6292522997799371, 0.642831964890162, 0.5930272759085611, 0.4778816787401834, 0.5105478710939013, 0.5332812737056187, 0.49413119151667945, 0.5093313668833839, 0.45207853093979855, 0.6889706952609713, 0.6161284555442748, 0.5199548477842694, 0.6013071486457944, 0.5821449628443944, 0.48483144924754185, 0.5664632385912395, 0.5442123268010125, 0.5480443158944446, 0.6979106451178353, 0.5206065575414232, 0.5939593606468229, 0.6001470479113714, 0.7641808979700485, 0.5590012597167303, 0.5719425749589528, 0.5440168857423088, 0.5013906501493756, 0.5590647678999673, 0.5723014762060983, 0.5491039784787194, 0.49921767373690557, 0.7227036500620465, 0.5298419890403747, 0.5777946074160318, 0.4998684001706896, 0.6140821679641328, 0.682089677856082, 0.4848965045478608, 0.48221219458655695, 0.5382983882767814, 0.5504201886578213, 0.571290444593581, 0.6580107613423515, 0.5805782782388114, 0.5147709521944559, 0.5661719532864435, 0.7495957985756891, 0.5631005918147072, 0.5267494392811307, 0.596712512436367, 0.5874133997077033, 0.4704713322794628, 0.5611234123725738, 0.5005157922449567, 0.6155740148169655, 0.3791230179260646, 0.5085610727204215, 0.5078133609238127, 0.5716052526235583, 0.4285134191645516, 0.5427454435692896, 0.5363769335198024, 0.5330583929277602, 0.5089543076772539, 0.6581888934203556, 0.5459624792583405, 0.4834799195054977, 0.41794559339682263, 0.6315571735964882]\n"
     ]
    },
    {
     "name": "stdout",
     "output_type": "stream",
     "text": [
      "(Pdb) exit\n"
     ]
    },
    {
     "ename": "BdbQuit",
     "evalue": "",
     "output_type": "error",
     "traceback": [
      "\u001b[0;31m---------------------------------------------------------------------------\u001b[0m",
      "\u001b[0;31mBdbQuit\u001b[0m                                   Traceback (most recent call last)",
      "\u001b[0;32m<ipython-input-21-7ea4b06f8a39>\u001b[0m in \u001b[0;36m<module>\u001b[0;34m\u001b[0m\n\u001b[1;32m      3\u001b[0m \u001b[0mattn_decoder1\u001b[0m \u001b[0;34m=\u001b[0m \u001b[0mAttnDecoderRNN\u001b[0m\u001b[0;34m(\u001b[0m\u001b[0mhidden_size\u001b[0m\u001b[0;34m,\u001b[0m \u001b[0moutput_lang\u001b[0m\u001b[0;34m.\u001b[0m\u001b[0mn_words\u001b[0m\u001b[0;34m,\u001b[0m \u001b[0mdropout_p\u001b[0m\u001b[0;34m=\u001b[0m\u001b[0;36m0.1\u001b[0m\u001b[0;34m)\u001b[0m\u001b[0;34m.\u001b[0m\u001b[0mto\u001b[0m\u001b[0;34m(\u001b[0m\u001b[0mdevice\u001b[0m\u001b[0;34m)\u001b[0m\u001b[0;34m\u001b[0m\u001b[0m\n\u001b[1;32m      4\u001b[0m \u001b[0;34m\u001b[0m\u001b[0m\n\u001b[0;32m----> 5\u001b[0;31m \u001b[0mtrainIters\u001b[0m\u001b[0;34m(\u001b[0m\u001b[0mencoder1\u001b[0m\u001b[0;34m,\u001b[0m \u001b[0mattn_decoder1\u001b[0m\u001b[0;34m,\u001b[0m \u001b[0;36m75000\u001b[0m\u001b[0;34m,\u001b[0m \u001b[0mprint_every\u001b[0m\u001b[0;34m=\u001b[0m\u001b[0;36m5000\u001b[0m\u001b[0;34m)\u001b[0m\u001b[0;34m\u001b[0m\u001b[0m\n\u001b[0m",
      "\u001b[0;32m<ipython-input-17-ddfa3da0cdf8>\u001b[0m in \u001b[0;36mtrainIters\u001b[0;34m(encoder, decoder, n_iters, print_every, plot_every, learning_rate)\u001b[0m\n\u001b[1;32m     37\u001b[0m             \u001b[0mplot_loss_total\u001b[0m \u001b[0;34m=\u001b[0m \u001b[0;36m0\u001b[0m\u001b[0;34m\u001b[0m\u001b[0m\n\u001b[1;32m     38\u001b[0m \u001b[0;34m\u001b[0m\u001b[0m\n\u001b[0;32m---> 39\u001b[0;31m     \u001b[0mshowPlot\u001b[0m\u001b[0;34m(\u001b[0m\u001b[0mplot_losses\u001b[0m\u001b[0;34m)\u001b[0m\u001b[0;34m\u001b[0m\u001b[0m\n\u001b[0m",
      "\u001b[0;32m<ipython-input-18-a5ffe97a0532>\u001b[0m in \u001b[0;36mshowPlot\u001b[0;34m(points)\u001b[0m\n\u001b[1;32m      7\u001b[0m \u001b[0;32mdef\u001b[0m \u001b[0mshowPlot\u001b[0m\u001b[0;34m(\u001b[0m\u001b[0mpoints\u001b[0m\u001b[0;34m)\u001b[0m\u001b[0;34m:\u001b[0m\u001b[0;34m\u001b[0m\u001b[0m\n\u001b[1;32m      8\u001b[0m     \u001b[0;32mimport\u001b[0m \u001b[0mpdb\u001b[0m\u001b[0;34m;\u001b[0m \u001b[0mpdb\u001b[0m\u001b[0;34m.\u001b[0m\u001b[0mset_trace\u001b[0m\u001b[0;34m(\u001b[0m\u001b[0;34m)\u001b[0m\u001b[0;34m\u001b[0m\u001b[0m\n\u001b[0;32m----> 9\u001b[0;31m     \u001b[0mplt\u001b[0m\u001b[0;34m.\u001b[0m\u001b[0mfigure\u001b[0m\u001b[0;34m(\u001b[0m\u001b[0;34m)\u001b[0m\u001b[0;34m\u001b[0m\u001b[0m\n\u001b[0m\u001b[1;32m     10\u001b[0m     \u001b[0mfig\u001b[0m\u001b[0;34m,\u001b[0m \u001b[0max\u001b[0m \u001b[0;34m=\u001b[0m \u001b[0mplt\u001b[0m\u001b[0;34m.\u001b[0m\u001b[0msubplots\u001b[0m\u001b[0;34m(\u001b[0m\u001b[0;34m)\u001b[0m\u001b[0;34m\u001b[0m\u001b[0m\n\u001b[1;32m     11\u001b[0m     \u001b[0;31m# this locator puts ticks at regular intervals\u001b[0m\u001b[0;34m\u001b[0m\u001b[0;34m\u001b[0m\u001b[0m\n",
      "\u001b[0;32m<ipython-input-18-a5ffe97a0532>\u001b[0m in \u001b[0;36mshowPlot\u001b[0;34m(points)\u001b[0m\n\u001b[1;32m      7\u001b[0m \u001b[0;32mdef\u001b[0m \u001b[0mshowPlot\u001b[0m\u001b[0;34m(\u001b[0m\u001b[0mpoints\u001b[0m\u001b[0;34m)\u001b[0m\u001b[0;34m:\u001b[0m\u001b[0;34m\u001b[0m\u001b[0m\n\u001b[1;32m      8\u001b[0m     \u001b[0;32mimport\u001b[0m \u001b[0mpdb\u001b[0m\u001b[0;34m;\u001b[0m \u001b[0mpdb\u001b[0m\u001b[0;34m.\u001b[0m\u001b[0mset_trace\u001b[0m\u001b[0;34m(\u001b[0m\u001b[0;34m)\u001b[0m\u001b[0;34m\u001b[0m\u001b[0m\n\u001b[0;32m----> 9\u001b[0;31m     \u001b[0mplt\u001b[0m\u001b[0;34m.\u001b[0m\u001b[0mfigure\u001b[0m\u001b[0;34m(\u001b[0m\u001b[0;34m)\u001b[0m\u001b[0;34m\u001b[0m\u001b[0m\n\u001b[0m\u001b[1;32m     10\u001b[0m     \u001b[0mfig\u001b[0m\u001b[0;34m,\u001b[0m \u001b[0max\u001b[0m \u001b[0;34m=\u001b[0m \u001b[0mplt\u001b[0m\u001b[0;34m.\u001b[0m\u001b[0msubplots\u001b[0m\u001b[0;34m(\u001b[0m\u001b[0;34m)\u001b[0m\u001b[0;34m\u001b[0m\u001b[0m\n\u001b[1;32m     11\u001b[0m     \u001b[0;31m# this locator puts ticks at regular intervals\u001b[0m\u001b[0;34m\u001b[0m\u001b[0;34m\u001b[0m\u001b[0m\n",
      "\u001b[0;32m~/anaconda3/lib/python3.7/bdb.py\u001b[0m in \u001b[0;36mtrace_dispatch\u001b[0;34m(self, frame, event, arg)\u001b[0m\n\u001b[1;32m     86\u001b[0m             \u001b[0;32mreturn\u001b[0m \u001b[0;31m# None\u001b[0m\u001b[0;34m\u001b[0m\u001b[0m\n\u001b[1;32m     87\u001b[0m         \u001b[0;32mif\u001b[0m \u001b[0mevent\u001b[0m \u001b[0;34m==\u001b[0m \u001b[0;34m'line'\u001b[0m\u001b[0;34m:\u001b[0m\u001b[0;34m\u001b[0m\u001b[0m\n\u001b[0;32m---> 88\u001b[0;31m             \u001b[0;32mreturn\u001b[0m \u001b[0mself\u001b[0m\u001b[0;34m.\u001b[0m\u001b[0mdispatch_line\u001b[0m\u001b[0;34m(\u001b[0m\u001b[0mframe\u001b[0m\u001b[0;34m)\u001b[0m\u001b[0;34m\u001b[0m\u001b[0m\n\u001b[0m\u001b[1;32m     89\u001b[0m         \u001b[0;32mif\u001b[0m \u001b[0mevent\u001b[0m \u001b[0;34m==\u001b[0m \u001b[0;34m'call'\u001b[0m\u001b[0;34m:\u001b[0m\u001b[0;34m\u001b[0m\u001b[0m\n\u001b[1;32m     90\u001b[0m             \u001b[0;32mreturn\u001b[0m \u001b[0mself\u001b[0m\u001b[0;34m.\u001b[0m\u001b[0mdispatch_call\u001b[0m\u001b[0;34m(\u001b[0m\u001b[0mframe\u001b[0m\u001b[0;34m,\u001b[0m \u001b[0marg\u001b[0m\u001b[0;34m)\u001b[0m\u001b[0;34m\u001b[0m\u001b[0m\n",
      "\u001b[0;32m~/anaconda3/lib/python3.7/bdb.py\u001b[0m in \u001b[0;36mdispatch_line\u001b[0;34m(self, frame)\u001b[0m\n\u001b[1;32m    111\u001b[0m         \u001b[0;32mif\u001b[0m \u001b[0mself\u001b[0m\u001b[0;34m.\u001b[0m\u001b[0mstop_here\u001b[0m\u001b[0;34m(\u001b[0m\u001b[0mframe\u001b[0m\u001b[0;34m)\u001b[0m \u001b[0;32mor\u001b[0m \u001b[0mself\u001b[0m\u001b[0;34m.\u001b[0m\u001b[0mbreak_here\u001b[0m\u001b[0;34m(\u001b[0m\u001b[0mframe\u001b[0m\u001b[0;34m)\u001b[0m\u001b[0;34m:\u001b[0m\u001b[0;34m\u001b[0m\u001b[0m\n\u001b[1;32m    112\u001b[0m             \u001b[0mself\u001b[0m\u001b[0;34m.\u001b[0m\u001b[0muser_line\u001b[0m\u001b[0;34m(\u001b[0m\u001b[0mframe\u001b[0m\u001b[0;34m)\u001b[0m\u001b[0;34m\u001b[0m\u001b[0m\n\u001b[0;32m--> 113\u001b[0;31m             \u001b[0;32mif\u001b[0m \u001b[0mself\u001b[0m\u001b[0;34m.\u001b[0m\u001b[0mquitting\u001b[0m\u001b[0;34m:\u001b[0m \u001b[0;32mraise\u001b[0m \u001b[0mBdbQuit\u001b[0m\u001b[0;34m\u001b[0m\u001b[0m\n\u001b[0m\u001b[1;32m    114\u001b[0m         \u001b[0;32mreturn\u001b[0m \u001b[0mself\u001b[0m\u001b[0;34m.\u001b[0m\u001b[0mtrace_dispatch\u001b[0m\u001b[0;34m\u001b[0m\u001b[0m\n\u001b[1;32m    115\u001b[0m \u001b[0;34m\u001b[0m\u001b[0m\n",
      "\u001b[0;31mBdbQuit\u001b[0m: "
     ]
    }
   ],
   "source": [
    "hidden_size = 256\n",
    "encoder1 = EncoderRNN(input_lang.n_words, hidden_size).to(device)\n",
    "attn_decoder1 = AttnDecoderRNN(hidden_size, output_lang.n_words, dropout_p=0.1).to(device)\n",
    "\n",
    "trainIters(encoder1, attn_decoder1, 75000, print_every=5000)"
   ]
  },
  {
   "cell_type": "code",
   "execution_count": 22,
   "metadata": {},
   "outputs": [
    {
     "name": "stdout",
     "output_type": "stream",
     "text": [
      "> nous ne sommes pas vieux .\n",
      "= we re not old .\n",
      "< we re not old . <EOS>\n",
      "\n",
      "> je suis desolee si je vous ai embarrassees .\n",
      "= i m sorry if i embarrassed you .\n",
      "< i m sorry if i embarrassed you . <EOS>\n",
      "\n",
      "> c est mon amie .\n",
      "= she s my friend .\n",
      "< he is my friend . <EOS>\n",
      "\n",
      "> il se planque .\n",
      "= he s gone into hiding .\n",
      "< he s gone into hiding . <EOS>\n",
      "\n",
      "> vous etes fidele .\n",
      "= you re faithful .\n",
      "< you re faithful . <EOS>\n",
      "\n",
      "> ils sont jeunes et en bonne sante .\n",
      "= they re young and healthy .\n",
      "< they re young and healthy . <EOS>\n",
      "\n",
      "> je suis gourmand .\n",
      "= i m greedy .\n",
      "< i m greedy . <EOS>\n",
      "\n",
      "> tu es sans pitie .\n",
      "= you re ruthless .\n",
      "< you re ruthless . <EOS>\n",
      "\n",
      "> je ne vais pas attendre .\n",
      "= i m not going to wait .\n",
      "< i m not going to be . . <EOS>\n",
      "\n",
      "> c est une beaute .\n",
      "= she s a cutie .\n",
      "< she s a cutie . <EOS>\n",
      "\n"
     ]
    }
   ],
   "source": [
    "evaluateRandomly(encoder1, attn_decoder1)"
   ]
  },
  {
   "cell_type": "markdown",
   "metadata": {},
   "source": [
    "Visualizing Attention\n",
    "---------------------\n",
    "\n",
    "A useful property of the attention mechanism is its highly interpretable\n",
    "outputs. Because it is used to weight specific encoder outputs of the\n",
    "input sequence, we can imagine looking where the network is focused most\n",
    "at each time step.\n",
    "\n",
    "You could simply run ``plt.matshow(attentions)`` to see attention output\n",
    "displayed as a matrix, with the columns being input steps and rows being\n",
    "output steps:\n",
    "\n",
    "\n"
   ]
  },
  {
   "cell_type": "code",
   "execution_count": 25,
   "metadata": {},
   "outputs": [
    {
     "data": {
      "text/plain": [
       "<matplotlib.image.AxesImage at 0x7fc1745574e0>"
      ]
     },
     "execution_count": 25,
     "metadata": {},
     "output_type": "execute_result"
    },
    {
     "data": {
      "image/png": "[encoded data removed]",
      "text/plain": [
       "<Figure size 480x288 with 1 Axes>"
      ]
     },
     "metadata": {
      "needs_background": "light"
     },
     "output_type": "display_data"
    }
   ],
   "source": [
    "output_words, attentions = evaluate(\n",
    "    encoder1, attn_decoder1, \"je suis trop froid .\")\n",
    "plt.matshow(attentions.numpy())"
   ]
  },
  {
   "cell_type": "markdown",
   "metadata": {},
   "source": [
    "For a better viewing experience we will do the extra work of adding axes\n",
    "and labels:\n",
    "\n",
    "\n"
   ]
  },
  {
   "cell_type": "code",
   "execution_count": 26,
   "metadata": {},
   "outputs": [
    {
     "name": "stdout",
     "output_type": "stream",
     "text": [
      "input = elle a cinq ans de moins que moi .\n",
      "output = she s five years younger than me . <EOS>\n"
     ]
    },
    {
     "data": {
      "image/png": "[encoded data removed]",
      "text/plain": [
       "<Figure size 432x288 with 2 Axes>"
      ]
     },
     "metadata": {
      "needs_background": "light"
     },
     "output_type": "display_data"
    },
    {
     "name": "stdout",
     "output_type": "stream",
     "text": [
      "input = elle est trop petit .\n",
      "output = she s too too . <EOS>\n"
     ]
    },
    {
     "data": {
      "image/png": "[encoded data removed]",
      "text/plain": [
       "<Figure size 432x288 with 2 Axes>"
      ]
     },
     "metadata": {
      "needs_background": "light"
     },
     "output_type": "display_data"
    },
    {
     "name": "stdout",
     "output_type": "stream",
     "text": [
      "input = je ne crains pas de mourir .\n",
      "output = i m not scared to die . <EOS>\n"
     ]
    },
    {
     "data": {
      "image/png": "[encoded data removed]",
      "text/plain": [
       "<Figure size 432x288 with 2 Axes>"
      ]
     },
     "metadata": {
      "needs_background": "light"
     },
     "output_type": "display_data"
    },
    {
     "name": "stdout",
     "output_type": "stream",
     "text": [
      "input = c est un jeune directeur plein de talent .\n",
      "output = he s a talented young director . <EOS>\n"
     ]
    },
    {
     "data": {
      "image/png": "[encoded data removed]",
      "text/plain": [
       "<Figure size 432x288 with 2 Axes>"
      ]
     },
     "metadata": {
      "needs_background": "light"
     },
     "output_type": "display_data"
    }
   ],
   "source": [
    "def showAttention(input_sentence: str, \n",
    "                  output_words: List[str], \n",
    "                  attentions: Tensor) -> None:\n",
    "    # Set up figure with colorbar\n",
    "    fig = plt.figure()\n",
    "    ax = fig.add_subplot(111)\n",
    "    cax = ax.matshow(attentions.numpy(), cmap='bone')\n",
    "    fig.colorbar(cax)\n",
    "\n",
    "    # Set up axes\n",
    "    ax.set_xticklabels([''] + input_sentence.split(' ') +\n",
    "                       ['<EOS>'], rotation=90)\n",
    "    ax.set_yticklabels([''] + output_words)\n",
    "\n",
    "    # Show label at every tick\n",
    "    ax.xaxis.set_major_locator(ticker.MultipleLocator(1))\n",
    "    ax.yaxis.set_major_locator(ticker.MultipleLocator(1))\n",
    "\n",
    "    plt.show()\n",
    "\n",
    "\n",
    "def evaluateAndShowAttention(input_sentence: str) -> None:\n",
    "    output_words, attentions = evaluate(\n",
    "        encoder1, attn_decoder1, input_sentence)\n",
    "    print('input =', input_sentence)\n",
    "    print('output =', ' '.join(output_words))\n",
    "    showAttention(input_sentence, output_words, attentions)\n",
    "\n",
    "\n",
    "evaluateAndShowAttention(\"elle a cinq ans de moins que moi .\")\n",
    "\n",
    "evaluateAndShowAttention(\"elle est trop petit .\")\n",
    "\n",
    "evaluateAndShowAttention(\"je ne crains pas de mourir .\")\n",
    "\n",
    "evaluateAndShowAttention(\"c est un jeune directeur plein de talent .\")"
   ]
  },
  {
   "cell_type": "markdown",
   "metadata": {},
   "source": [
    "Exercises\n",
    "=========\n",
    "\n",
    "-  Try with a different dataset\n",
    "\n",
    "   -  Another language pair\n",
    "   -  Human → Machine (e.g. IOT commands)\n",
    "   -  Chat → Response\n",
    "   -  Question → Answer\n",
    "\n",
    "-  Replace the embeddings with pre-trained word embeddings such as word2vec or\n",
    "   GloVe\n",
    "-  Try with more layers, more hidden units, and more sentences. Compare\n",
    "   the training time and results.\n",
    "-  If you use a translation file where pairs have two of the same phrase\n",
    "   (``I am test \\t I am test``), you can use this as an autoencoder. Try\n",
    "   this:\n",
    "\n",
    "   -  Train as an autoencoder\n",
    "   -  Save only the Encoder network\n",
    "   -  Train a new Decoder for translation from there\n",
    "\n",
    "\n"
   ]
  }
 ],
 "metadata": {
  "kernelspec": {
   "display_name": "Python 3",
   "language": "python",
   "name": "python3"
  },
  "language_info": {
   "codemirror_mode": {
    "name": "ipython",
    "version": 3
   },
   "file_extension": ".py",
   "mimetype": "text/x-python",
   "name": "python",
   "nbconvert_exporter": "python",
   "pygments_lexer": "ipython3",
   "version": "3.7.0"
  }
 },
 "nbformat": 4,
 "nbformat_minor": 1
}
